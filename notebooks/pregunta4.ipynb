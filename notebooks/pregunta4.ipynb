{
 "cells": [
  {
   "cell_type": "markdown",
   "id": "8ceca13e-9692-4a0d-b9be-32db96c87017",
   "metadata": {},
   "source": [
    "# Respuesta 4"
   ]
  },
  {
   "cell_type": "code",
   "execution_count": 50,
   "id": "ae9bd108-612d-4881-8cfb-07ec78e9a890",
   "metadata": {},
   "outputs": [
    {
     "name": "stdout",
     "output_type": "stream",
     "text": [
      "Columnas modificadas:\n",
      "Index(['Cadena', 'Sub_Cadena', 'Categoría', 'Familia', 'Código_de_Producto',\n",
      "       'Peso_en_Toneladas'],\n",
      "      dtype='object')\n"
     ]
    }
   ],
   "source": [
    "import pandas as pd\n",
    "import sqlite3\n",
    "\n",
    "csv_file_path = 'Prueba_Moderno.csv'\n",
    "\n",
    "try:\n",
    "    df = pd.read_csv(csv_file_path, encoding='latin1', delimiter=';')\n",
    "    df.columns = df.columns.str.replace(' ', '_')\n",
    "    \n",
    "    print(\"Columnas modificadas:\")\n",
    "    print(df.columns)\n",
    "    \n",
    "except UnicodeDecodeError as e:\n",
    "    print(\"Error al leer el archivo CSV:\", e)"
   ]
  },
  {
   "cell_type": "markdown",
   "id": "69225f7b-8a33-45d9-848f-eeca2b16a00b",
   "metadata": {},
   "source": [
    "- Se lee el archivo CSV y se reemplazan los espacios en los nombres de las columnas por guiones bajos para evitar problemas con SQL y pandas."
   ]
  },
  {
   "cell_type": "markdown",
   "id": "993d7086-ec75-47c7-941b-eceb3d1c1a2d",
   "metadata": {},
   "source": [
    "## Consulta SQL:"
   ]
  },
  {
   "cell_type": "code",
   "execution_count": 52,
   "id": "1c57394f-2770-4d16-b82b-a770e30e3ce7",
   "metadata": {},
   "outputs": [
    {
     "data": {
      "text/plain": [
       "67525"
      ]
     },
     "execution_count": 52,
     "metadata": {},
     "output_type": "execute_result"
    }
   ],
   "source": [
    "conn = sqlite3.connect(':memory:')\n",
    "cursor = conn.cursor()\n",
    "df.to_sql('Prueba_Moderno', conn, index=False, if_exists='replace')"
   ]
  },
  {
   "cell_type": "code",
   "execution_count": 51,
   "id": "7aef921f-1011-46f9-839a-6b14a96283fb",
   "metadata": {},
   "outputs": [
    {
     "name": "stdout",
     "output_type": "stream",
     "text": [
      "   Sub_Cadena  Venta_Total\n",
      "0   Plaza Vea       4.9350\n",
      "1  Precio Uno       0.0120\n",
      "2      Tottus       5.7015\n"
     ]
    }
   ],
   "source": [
    "query = \"\"\"\n",
    "SELECT Sub_Cadena, SUM(Peso_en_Toneladas) as Venta_Total\n",
    "FROM Prueba_Moderno\n",
    "WHERE Código_de_Producto = '8406103'\n",
    "GROUP BY Sub_Cadena\n",
    "\"\"\"\n",
    "result = pd.read_sql_query(query, conn)\n",
    "\n",
    "print(result)"
   ]
  },
  {
   "cell_type": "markdown",
   "id": "483abd02-b5a3-4767-80b7-c109748366bb",
   "metadata": {},
   "source": [
    "## Consulta Usando pandas:"
   ]
  },
  {
   "cell_type": "code",
   "execution_count": 49,
   "id": "f9c3ff7a-efe6-421d-a555-2964c30d71f3",
   "metadata": {},
   "outputs": [
    {
     "name": "stdout",
     "output_type": "stream",
     "text": [
      "Resultado usando pandas:\n",
      "   Sub_Cadena  Venta_Total\n",
      "0   Plaza Vea       4.9350\n",
      "1  Precio Uno       0.0120\n",
      "2      Tottus       5.7015\n"
     ]
    }
   ],
   "source": [
    "df_filtered = df[df['Código_de_Producto'] == 8406103]\n",
    "\n",
    "result_pandas = df_filtered.groupby('Sub_Cadena')['Peso_en_Toneladas'].sum().reset_index()\n",
    "\n",
    "result_pandas.columns = ['Sub_Cadena', 'Venta_Total']\n",
    "\n",
    "print(\"Resultado usando pandas:\")\n",
    "print(result_pandas)"
   ]
  }
 ],
 "metadata": {
  "kernelspec": {
   "display_name": "Python 3 (ipykernel)",
   "language": "python",
   "name": "python3"
  },
  "language_info": {
   "codemirror_mode": {
    "name": "ipython",
    "version": 3
   },
   "file_extension": ".py",
   "mimetype": "text/x-python",
   "name": "python",
   "nbconvert_exporter": "python",
   "pygments_lexer": "ipython3",
   "version": "3.12.4"
  }
 },
 "nbformat": 4,
 "nbformat_minor": 5
}
