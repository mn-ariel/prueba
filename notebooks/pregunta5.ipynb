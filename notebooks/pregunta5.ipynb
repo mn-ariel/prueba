{
 "cells": [
  {
   "cell_type": "markdown",
   "metadata": {
    "id": "MUUdX3hwl5qu"
   },
   "source": [
    "## Respuesta 5\n",
    "\n",
    "Para resolver esto se aborda 2 partes:\n",
    "\n",
    "### 1. Mencionar supuestos del modelo de Regresion Lineal\n",
    "\n",
    "- **Linealidad**: La relación entre la variable dependiente y las variables independientes es lineal.\n",
    "- **Independencia**: Las observaciones son independientes entre sí.\n",
    "- **Homoscedasticidad**: La varianza de los errores es constante para todos los valores de las variables independientes.\n",
    "- **Normalidad**: Los errores se distribuyen normalmente con media cero y varianza constante.\n",
    "- **No multicolinealidad**: Las variables independientes no están perfectamente correlacionadas entre sí.\n",
    "\n",
    "### 2. Calculo de los estimadores del modelo\n",
    "\n",
    "El modelo se representa como:\n",
    "\n",
    "𝐘 = 𝐗 β + *e*\n",
    "\n",
    "Donde:\n",
    "\n",
    "- **Y** es el vector de observaciones.\n",
    "- **X** es la matriz de diseño de las variables independientes.\n",
    "- **β** es el vector de coeficientes que queremos estimar.\n",
    "- ***e*** es el vector de errores, que se asume que sigue una distribución normal con media cero y varianza constante.\n",
    "\n",
    "Para estimar β se utiiza la formula de los minimos cuadrados ordinarios (OLS)\n",
    "\n",
    "β^ = (XᵀX)\\^-1 XᵀY\n",
    "\n",
    "\n",
    "Dado:"
   ]
  },
  {
   "cell_type": "code",
   "execution_count": 1,
   "metadata": {
    "id": "bjR4KW1Yl2Ud"
   },
   "outputs": [],
   "source": [
    "import numpy as np\n",
    "\n",
    "# Definir los datos\n",
    "Y = np.array([6, 4, 23, 5, 11])\n",
    "X = np.array([\n",
    "    [3, 4, 5, 6, 13],\n",
    "    [10, 3, 7, 1, 4],\n",
    "    [10, 25, 12, 14, 16],\n",
    "    [7, 14, 20, 23, 7],\n",
    "    [3, 4, 4, 4, 10]\n",
    "])"
   ]
  },
  {
   "cell_type": "markdown",
   "metadata": {
    "id": "L40xUjCPonKd"
   },
   "source": [
    "**Paso 1:** Primero se debe cacular la transpuesta de X"
   ]
  },
  {
   "cell_type": "code",
   "execution_count": 2,
   "metadata": {
    "id": "NEJOJ9UkoP1D"
   },
   "outputs": [],
   "source": [
    "# Transponer la matriz X\n",
    "X_T = X.T"
   ]
  },
  {
   "cell_type": "markdown",
   "metadata": {
    "id": "Wliew37xoywF"
   },
   "source": [
    "**Paso 2:** Multiplicar Xᵀ por X"
   ]
  },
  {
   "cell_type": "code",
   "execution_count": 3,
   "metadata": {
    "id": "JawOpP-6osDZ"
   },
   "outputs": [],
   "source": [
    "# Multiplicar X_T por X\n",
    "X_T_X = np.dot(X_T, X)"
   ]
  },
  {
   "cell_type": "markdown",
   "metadata": {
    "id": "XXNRXRD0pJPF"
   },
   "source": [
    "**Paso 3:** Multiplicar Xᵀ por Y"
   ]
  },
  {
   "cell_type": "code",
   "execution_count": 4,
   "metadata": {
    "id": "ckij8D8wo8Cu"
   },
   "outputs": [],
   "source": [
    "# Multiplicar X_T por Y\n",
    "X_T_Y = np.dot(X_T, Y)"
   ]
  },
  {
   "cell_type": "markdown",
   "metadata": {
    "id": "kQKu6PNBpPKi"
   },
   "source": [
    "**Paso 4**: Calcular la inversa de XᵀX"
   ]
  },
  {
   "cell_type": "code",
   "execution_count": 5,
   "metadata": {
    "id": "ICgcUyBhpMxJ"
   },
   "outputs": [],
   "source": [
    "# Calcular la inversa de X_T_X\n",
    "X_T_X_inv = np.linalg.inv(X_T_X)"
   ]
  },
  {
   "cell_type": "markdown",
   "metadata": {
    "id": "SAzGdTfxpW1p"
   },
   "source": [
    "**Paso 5:** Multiplicar la inversa por XᵀY para obtener β^"
   ]
  },
  {
   "cell_type": "code",
   "execution_count": 6,
   "metadata": {
    "colab": {
     "base_uri": "https://localhost:8080/"
    },
    "id": "DjnuJ0dqpVRP",
    "outputId": "4bfbe96e-3f50-464c-a03a-88fbecf4c7ea"
   },
   "outputs": [
    {
     "data": {
      "text/plain": [
       "array([-11.24060403,   4.02248322,  15.7511745 , -13.04916107,\n",
       "         1.78238255])"
      ]
     },
     "execution_count": 6,
     "metadata": {},
     "output_type": "execute_result"
    }
   ],
   "source": [
    "# Calcular los coeficientes beta\n",
    "beta_hat = np.dot(X_T_X_inv, X_T_Y)\n",
    "beta_hat"
   ]
  },
  {
   "cell_type": "markdown",
   "metadata": {
    "id": "D1hgMTgVp8Rm"
   },
   "source": [
    "#### Resultado:\n",
    "Los coeficientes estimados para β^ son:\n",
    "\n",
    "\n",
    "β^ = \\begin{pmatrix} -11.24060403 \\\\ 4.02248322 \\\\ 15.7511745 \\\\ -13.04916107 \\\\ 1.78238255 \\end{pmatrix}"
   ]
  },
  {
   "cell_type": "markdown",
   "metadata": {
    "id": "pfG_2VfCh-1_"
   },
   "source": [
    "## Verificacion del resultado\n",
    "\n",
    "Para verificar que los coeficientes estimados funcionan, se puede seguir los siguientes pasos:"
   ]
  },
  {
   "cell_type": "code",
   "execution_count": 7,
   "metadata": {
    "colab": {
     "base_uri": "https://localhost:8080/"
    },
    "id": "bu5tDceRh_EC",
    "outputId": "e4469856-996a-4c9e-eae0-3c60417d7a75"
   },
   "outputs": [
    {
     "name": "stdout",
     "output_type": "stream",
     "text": [
      "Valores observados Y: [ 6  4 23  5 11]\n",
      "Valores predichos Y_pred: [ 6.  4. 23.  5. 11.]\n",
      "Error Cuadrático Medio (MSE): 1.8355356780338974e-22\n"
     ]
    }
   ],
   "source": [
    "# Paso 1: Calcular los valores predichos\n",
    "Y_pred = np.dot(X, beta_hat)\n",
    "\n",
    "# Paso 2: Comparar los valores predichos con los valores observados\n",
    "print(\"Valores observados Y:\", Y)\n",
    "print(\"Valores predichos Y_pred:\", Y_pred)\n",
    "\n",
    "# Paso 3: Calcular el error de predicción (MSE)\n",
    "MSE = np.mean((Y - Y_pred) ** 2)\n",
    "print(\"Error Cuadrático Medio (MSE):\", MSE)"
   ]
  },
  {
   "cell_type": "markdown",
   "metadata": {
    "id": "kNRPUyFMifdA"
   },
   "source": [
    "Este error extremadamente pequeño indica que los valores predichos están casi exactamente alineados con los valores observados, lo que confirma que los coeficientes estimados funcionan correctamente para este conjunto de datos.\n",
    "\n",
    "Si bien se ha verificado los coeficientes obtenidos utilizando el mismo dataset de entrenamiento, lo que muestra un buen ajuste, es importante destacar que para una evaluación más robusta del modelo, deberíamos probarlo en un dataset no visto durante el entrenamiento. Esto permitiría evaluar la capacidad de generalización del modelo. Sin embargo, debido al tamaño reducido del dataset disponible, no es posible dividirlo en conjuntos de entrenamiento y prueba sin comprometer la robustez del análisis."
   ]
  },
  {
   "cell_type": "code",
   "execution_count": null,
   "metadata": {},
   "outputs": [],
   "source": []
  }
 ],
 "metadata": {
  "colab": {
   "provenance": []
  },
  "kernelspec": {
   "display_name": "Python 3 (ipykernel)",
   "language": "python",
   "name": "python3"
  },
  "language_info": {
   "codemirror_mode": {
    "name": "ipython",
    "version": 3
   },
   "file_extension": ".py",
   "mimetype": "text/x-python",
   "name": "python",
   "nbconvert_exporter": "python",
   "pygments_lexer": "ipython3",
   "version": "3.12.4"
  }
 },
 "nbformat": 4,
 "nbformat_minor": 4
}
