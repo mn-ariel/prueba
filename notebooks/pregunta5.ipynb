{
  "nbformat": 4,
  "nbformat_minor": 0,
  "metadata": {
    "colab": {
      "provenance": []
    },
    "kernelspec": {
      "name": "python3",
      "display_name": "Python 3"
    },
    "language_info": {
      "name": "python"
    }
  },
  "cells": [
    {
      "cell_type": "markdown",
      "source": [
        "## Respuesta 5\n",
        "\n",
        "Para resolver esto se aborda 2 partes:\n",
        "\n",
        "### 1. Mencionar supuestos del modelo de Regresion Lineal\n",
        "\n",
        "- **Linealidad**: La relación entre la variable dependiente y las variables independientes es lineal.\n",
        "- **Independencia**: Las observaciones son independientes entre sí.\n",
        "- **Homoscedasticidad**: La varianza de los errores es constante para todos los valores de las variables independientes.\n",
        "- **Normalidad**: Los errores se distribuyen normalmente con media cero y varianza constante.\n",
        "- **No multicolinealidad**: Las variables independientes no están perfectamente correlacionadas entre sí.\n",
        "\n",
        "### 2. Calculo de los estimadores del modelo\n",
        "\n",
        "El modelo se representa como:\n",
        "\n",
        "𝐘 = 𝐗 β + *e*\n",
        "\n",
        "Donde:\n",
        "\n",
        "- **Y** es el vector de observaciones.\n",
        "- **X** es la matriz de diseño de las variables independientes.\n",
        "- **β** es el vector de coeficientes que queremos estimar.\n",
        "- ***e*** es el vector de errores, que se asume que sigue una distribución normal con media cero y varianza constante.\n",
        "\n",
        "Para estimar β se utiiza la formula de los minimos cuadrados ordinarios (OLS)\n",
        "\n",
        "β^ = (XᵀX)\\^-1 XᵀY\n",
        "\n",
        "\n",
        "Dado:"
      ],
      "metadata": {
        "id": "MUUdX3hwl5qu"
      }
    },
    {
      "cell_type": "code",
      "execution_count": 1,
      "metadata": {
        "id": "bjR4KW1Yl2Ud"
      },
      "outputs": [],
      "source": [
        "import numpy as np\n",
        "\n",
        "# Definir los datos\n",
        "Y = np.array([6, 4, 23, 5, 11])\n",
        "X = np.array([\n",
        "    [3, 4, 5, 6, 13],\n",
        "    [10, 3, 7, 1, 4],\n",
        "    [10, 25, 12, 14, 16],\n",
        "    [7, 14, 20, 23, 7],\n",
        "    [3, 4, 4, 4, 10]\n",
        "])"
      ]
    },
    {
      "cell_type": "markdown",
      "source": [
        "**Paso 1:** Primero se debe cacular la transpuesta de X"
      ],
      "metadata": {
        "id": "L40xUjCPonKd"
      }
    },
    {
      "cell_type": "code",
      "source": [
        "# Transponer la matriz X\n",
        "X_T = X.T"
      ],
      "metadata": {
        "id": "NEJOJ9UkoP1D"
      },
      "execution_count": 2,
      "outputs": []
    },
    {
      "cell_type": "markdown",
      "source": [
        "**Paso 2:** Multiplicar Xᵀ por X"
      ],
      "metadata": {
        "id": "Wliew37xoywF"
      }
    },
    {
      "cell_type": "code",
      "source": [
        "# Multiplicar X_T por X\n",
        "X_T_X = np.dot(X_T, X)"
      ],
      "metadata": {
        "id": "JawOpP-6osDZ"
      },
      "execution_count": 3,
      "outputs": []
    },
    {
      "cell_type": "markdown",
      "source": [
        "**Paso 3:** Multiplicar Xᵀ por Y"
      ],
      "metadata": {
        "id": "XXNRXRD0pJPF"
      }
    },
    {
      "cell_type": "code",
      "source": [
        "# Multiplicar X_T por Y\n",
        "X_T_Y = np.dot(X_T, Y)"
      ],
      "metadata": {
        "id": "ckij8D8wo8Cu"
      },
      "execution_count": 4,
      "outputs": []
    },
    {
      "cell_type": "markdown",
      "source": [
        "**Paso 4**: Calcular la inversa de XᵀX"
      ],
      "metadata": {
        "id": "kQKu6PNBpPKi"
      }
    },
    {
      "cell_type": "code",
      "source": [
        "# Calcular la inversa de X_T_X\n",
        "X_T_X_inv = np.linalg.inv(X_T_X)"
      ],
      "metadata": {
        "id": "ICgcUyBhpMxJ"
      },
      "execution_count": 5,
      "outputs": []
    },
    {
      "cell_type": "markdown",
      "source": [
        "**Paso 5:** Multiplicar la inversa por XᵀY para obtener β^"
      ],
      "metadata": {
        "id": "SAzGdTfxpW1p"
      }
    },
    {
      "cell_type": "code",
      "source": [
        "# Calcular los coeficientes beta\n",
        "beta_hat = np.dot(X_T_X_inv, X_T_Y)\n",
        "beta_hat"
      ],
      "metadata": {
        "colab": {
          "base_uri": "https://localhost:8080/"
        },
        "id": "DjnuJ0dqpVRP",
        "outputId": "4bfbe96e-3f50-464c-a03a-88fbecf4c7ea"
      },
      "execution_count": 6,
      "outputs": [
        {
          "output_type": "execute_result",
          "data": {
            "text/plain": [
              "array([-11.24060403,   4.02248322,  15.7511745 , -13.04916107,\n",
              "         1.78238255])"
            ]
          },
          "metadata": {},
          "execution_count": 6
        }
      ]
    },
    {
      "cell_type": "markdown",
      "source": [
        "#### Resultado:\n",
        "Los coeficientes estimados para β^ son:\n",
        "\n",
        "\n",
        "β^ = \\begin{pmatrix} -11.24060403 \\\\ 4.02248322 \\\\ 15.7511745 \\\\ -13.04916107 \\\\ 1.78238255 \\end{pmatrix}"
      ],
      "metadata": {
        "id": "D1hgMTgVp8Rm"
      }
    },
    {
      "cell_type": "markdown",
      "source": [
        "## Verificacion del resultado\n",
        "\n",
        "Para verificar que los coeficientes estimados funcionan, se puede seguir los siguientes pasos:"
      ],
      "metadata": {
        "id": "pfG_2VfCh-1_"
      }
    },
    {
      "cell_type": "code",
      "source": [
        "# Paso 1: Calcular los valores predichos\n",
        "Y_pred = np.dot(X, beta_hat)\n",
        "\n",
        "# Paso 2: Comparar los valores predichos con los valores observados\n",
        "print(\"Valores observados Y:\", Y)\n",
        "print(\"Valores predichos Y_pred:\", Y_pred)\n",
        "\n",
        "# Paso 3: Calcular el error de predicción (MSE)\n",
        "MSE = np.mean((Y - Y_pred) ** 2)\n",
        "print(\"Error Cuadrático Medio (MSE):\", MSE)"
      ],
      "metadata": {
        "colab": {
          "base_uri": "https://localhost:8080/"
        },
        "id": "bu5tDceRh_EC",
        "outputId": "e4469856-996a-4c9e-eae0-3c60417d7a75"
      },
      "execution_count": 7,
      "outputs": [
        {
          "output_type": "stream",
          "name": "stdout",
          "text": [
            "Valores observados Y: [ 6  4 23  5 11]\n",
            "Valores predichos Y_pred: [ 6.  4. 23.  5. 11.]\n",
            "Error Cuadrático Medio (MSE): 1.8355356780338974e-22\n"
          ]
        }
      ]
    },
    {
      "cell_type": "markdown",
      "source": [
        "Este error extremadamente pequeño indica que los valores predichos están casi exactamente alineados con los valores observados, lo que confirma que los coeficientes estimados funcionan correctamente para este conjunto de datos.\n",
        "\n",
        "Si bien se ha verificado los coeficientes obtenidos utilizando el mismo dataset de entrenamiento, lo que muestra un buen ajuste, es importante destacar que para una evaluación más robusta del modelo, deberíamos probarlo en un dataset no visto durante el entrenamiento. Esto permitiría evaluar la capacidad de generalización del modelo. Sin embargo, debido al tamaño reducido del dataset disponible, no es posible dividirlo en conjuntos de entrenamiento y prueba sin comprometer la robustez del análisis."
      ],
      "metadata": {
        "id": "kNRPUyFMifdA"
      }
    },
    {
      "cell_type": "code",
      "source": [],
      "metadata": {
        "colab": {
          "base_uri": "https://localhost:8080/"
        },
        "id": "6KCmHVvKiPy2",
        "outputId": "4d6ed914-0f30-4138-bd16-99f2bf82c3f9"
      },
      "execution_count": 8,
      "outputs": [
        {
          "output_type": "execute_result",
          "data": {
            "text/plain": [
              "array([ 6.,  4., 23.,  5., 11.])"
            ]
          },
          "metadata": {},
          "execution_count": 8
        }
      ]
    },
    {
      "cell_type": "code",
      "source": [
        "# pregunta 1\n",
        "def obtener_dominio(correo):\n",
        "    try:\n",
        "        partes = correo.split('@')\n",
        "        if partes[1] == '' or len(partes)>2:\n",
        "            raise ValueError(\"La variable ingresada no tiene el formato correcto, por lo tanto no se puede extraer el dominio\")\n",
        "        return partes[1]\n",
        "    except Exception as e:\n",
        "        raise ValueError(\"La variable ingresada no tiene el formato correcto, por lo tanto no se puede extraer el dominio\")\n",
        "\n",
        "def test_obtener_dominio():\n",
        "    # Caso de prueba 1\n",
        "    assert obtener_dominio(\"usuario@dominio.com\") == \"dominio.com\", \"Error en el caso de prueba 1\"\n",
        "\n",
        "    # Caso de prueba 2\n",
        "    assert obtener_dominio(\"usuario@sub.dominio.com\") == \"sub.dominio.com\", \"Error en el caso de prueba 2\"\n",
        "\n",
        "    # Caso de prueba 3\n",
        "    try:\n",
        "        obtener_dominio(\"usuario@\")\n",
        "    except ValueError as e:\n",
        "        assert str(e) == \"La variable ingresada no tiene el formato correcto, por lo tanto no se puede extraer el dominio\", \"Error en el caso de prueba 3\"\n",
        "    else:\n",
        "        assert False, \"Error en el caso de prueba 3: no se lanzó ValueError\"\n",
        "\n",
        "    # Caso de prueba 4\n",
        "    try:\n",
        "        obtener_dominio(\"usuariodominio.com\")\n",
        "    except ValueError as e:\n",
        "        assert str(e) == \"La variable ingresada no tiene el formato correcto, por lo tanto no se puede extraer el dominio\", \"Error en el caso de prueba 4\"\n",
        "    else:\n",
        "        assert False, \"Error en el caso de prueba 4: no se lanzó ValueError\"\n",
        "\n",
        "    # Caso de prueba 5\n",
        "    try:\n",
        "        obtener_dominio(\"usuario@dominio@otro.com\")\n",
        "    except ValueError as e:\n",
        "        assert str(e) == \"La variable ingresada no tiene el formato correcto, por lo tanto no se puede extraer el dominio\", \"Error en el caso de prueba 4\"\n",
        "    else:\n",
        "        assert False, \"Error en el caso de prueba 5: no se lanzó ValueError\"\n",
        "\n",
        "# Ejecutar las pruebas\n",
        "test_obtener_dominio()\n"
      ],
      "metadata": {
        "id": "RRX4a1GFvfSC"
      },
      "execution_count": 13,
      "outputs": []
    },
    {
      "cell_type": "code",
      "source": [
        "# Pregunta 2\n",
        "def identificar_nivel_ventas(venta, categoria):\n",
        "  incremento = 50\n",
        "  if categoria == 1 or categoria == 0:\n",
        "    incremento = incremento * categoria # para que los limites sean 50 toneladas mas altos si es pasta (50*1=50), sino son los mismos limites (50 * 0 = 0)\n",
        "  else:\n",
        "    raise ValueError(\"La variable categoria solo puede contener valores de 0 y 1\")\n",
        "\n",
        "  if venta <=60+incremento:\n",
        "    return \"Baja\"\n",
        "  elif venta >=(61+incremento) and venta <=(80+incremento):\n",
        "    return \"Media\"\n",
        "  else:\n",
        "    return \"Alta\"\n",
        "\n",
        "def test_identificar_nivel_ventas():\n",
        "    # Caso de prueba 1 - No pasta\n",
        "    assert identificar_nivel_ventas(40, 0) == \"Baja\", \"Error en el caso de prueba 1 - Cat 0\"\n",
        "\n",
        "    # Caso de prueba 1 - Pasta\n",
        "    assert identificar_nivel_ventas(40, 1) == \"Baja\", \"Error en el caso de prueba 1 - Cat 1\"\n",
        "\n",
        "    # Caso de prueba 2 - no pasta\n",
        "    assert identificar_nivel_ventas(75, 0) == \"Media\", \"Error en el caso de prueba 2 - Cat 0\"\n",
        "\n",
        "    # Caso de prueba 2 - pasta\n",
        "    assert identificar_nivel_ventas(120, 1) == \"Media\", \"Error en el caso de prueba 2 - Cat 1\"\n",
        "\n",
        "    # Caso de prueba 3 -  no pasta\n",
        "    assert identificar_nivel_ventas(81, 0) == \"Alta\", \"Error en el caso de prueba 3 - Cat 0\"\n",
        "\n",
        "    # Caso de prueba 3 - pasta\n",
        "    assert identificar_nivel_ventas(150, 1) == \"Alta\", \"Error en el caso de prueba 3 - Cat 0\"\n",
        "\n",
        "    # Caso de prueba 4\n",
        "    try:\n",
        "        identificar_nivel_ventas(50, 2)\n",
        "    except ValueError as e:\n",
        "        assert str(e) == \"La variable categoria solo puede contener valores de 0 y 1\", \"Error en el caso de prueba 4\"\n",
        "    else:\n",
        "        assert False, \"Error en el caso de prueba 4: no se lanzó ValueError\"\n",
        "\n",
        "test_identificar_nivel_ventas()\n"
      ],
      "metadata": {
        "id": "PmX5qOZxplo4"
      },
      "execution_count": 8,
      "outputs": []
    },
    {
      "cell_type": "code",
      "source": [],
      "metadata": {
        "id": "AJ84N1DGxInO"
      },
      "execution_count": null,
      "outputs": []
    }
  ]
}